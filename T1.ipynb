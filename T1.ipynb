{
 "cells": [
  {
   "cell_type": "code",
   "execution_count": 1,
   "metadata": {},
   "outputs": [],
   "source": [
    "import pandas as pd\n",
    "import numpy as np\n",
    "from sklearn.preprocessing import MultiLabelBinarizer\n",
    "from nltk.corpus import stopwords\n",
    "import random\n",
    "import re\n",
    "from scipy.sparse import csr_matrix\n",
    "from datasketch import MinHash,MinHashLSH\n"
   ]
  },
  {
   "cell_type": "code",
   "execution_count": 2,
   "metadata": {},
   "outputs": [
    {
     "data": {
      "text/html": [
       "<div>\n",
       "<style scoped>\n",
       "    .dataframe tbody tr th:only-of-type {\n",
       "        vertical-align: middle;\n",
       "    }\n",
       "\n",
       "    .dataframe tbody tr th {\n",
       "        vertical-align: top;\n",
       "    }\n",
       "\n",
       "    .dataframe thead th {\n",
       "        text-align: right;\n",
       "    }\n",
       "</style>\n",
       "<table border=\"1\" class=\"dataframe\">\n",
       "  <thead>\n",
       "    <tr style=\"text-align: right;\">\n",
       "      <th></th>\n",
       "      <th>id</th>\n",
       "      <th>created_at</th>\n",
       "      <th>screen_name</th>\n",
       "      <th>text</th>\n",
       "      <th>favorite_count</th>\n",
       "      <th>retweet_count</th>\n",
       "    </tr>\n",
       "  </thead>\n",
       "  <tbody>\n",
       "    <tr>\n",
       "      <th>0</th>\n",
       "      <td>1512186166438637582</td>\n",
       "      <td>2022-04-07 21:50:51 UTC</td>\n",
       "      <td>h0l4d4ni3l4</td>\n",
       "      <td>RT @ValeMirandaCC: Tras casi 50 años del golpe...</td>\n",
       "      <td>0</td>\n",
       "      <td>0</td>\n",
       "    </tr>\n",
       "    <tr>\n",
       "      <th>1</th>\n",
       "      <td>1512186202367045642</td>\n",
       "      <td>2022-04-07 21:51:00 UTC</td>\n",
       "      <td>Claudio70932894</td>\n",
       "      <td>RT @UTDTrabajoDigno: Mañana jueves a las 18hrs...</td>\n",
       "      <td>0</td>\n",
       "      <td>0</td>\n",
       "    </tr>\n",
       "    <tr>\n",
       "      <th>2</th>\n",
       "      <td>1512186287284924418</td>\n",
       "      <td>2022-04-07 21:51:20 UTC</td>\n",
       "      <td>Cesar_A_RR</td>\n",
       "      <td>RT @JaimeGuajardoR: Aquí está el aporte de @te...</td>\n",
       "      <td>0</td>\n",
       "      <td>0</td>\n",
       "    </tr>\n",
       "    <tr>\n",
       "      <th>3</th>\n",
       "      <td>1512186335754301446</td>\n",
       "      <td>2022-04-07 21:51:32 UTC</td>\n",
       "      <td>rosmarieher</td>\n",
       "      <td>RT @melnicksergio: la pelotudez no tiene limit...</td>\n",
       "      <td>0</td>\n",
       "      <td>0</td>\n",
       "    </tr>\n",
       "    <tr>\n",
       "      <th>4</th>\n",
       "      <td>1512186407841767424</td>\n",
       "      <td>2022-04-07 21:51:49 UTC</td>\n",
       "      <td>GQuelluen</td>\n",
       "      <td>RT @BSepulvedaHales: Ante la circulación de no...</td>\n",
       "      <td>0</td>\n",
       "      <td>0</td>\n",
       "    </tr>\n",
       "    <tr>\n",
       "      <th>...</th>\n",
       "      <td>...</td>\n",
       "      <td>...</td>\n",
       "      <td>...</td>\n",
       "      <td>...</td>\n",
       "      <td>...</td>\n",
       "      <td>...</td>\n",
       "    </tr>\n",
       "    <tr>\n",
       "      <th>4594975</th>\n",
       "      <td>1526652300709679104</td>\n",
       "      <td>2022-05-17 19:54:06 UTC</td>\n",
       "      <td>Alebarrera74</td>\n",
       "      <td>RT @DanielAbelLope1: @tere_marinovic 😡🤮😡🤮 VIEJ...</td>\n",
       "      <td>0</td>\n",
       "      <td>0</td>\n",
       "    </tr>\n",
       "    <tr>\n",
       "      <th>4594976</th>\n",
       "      <td>1526641118460334080</td>\n",
       "      <td>2022-05-17 19:09:40 UTC</td>\n",
       "      <td>gigita29bq</td>\n",
       "      <td>RT @DanielAbelLope1: @tere_marinovic 😡🤮😡🤮 VIEJ...</td>\n",
       "      <td>0</td>\n",
       "      <td>0</td>\n",
       "    </tr>\n",
       "    <tr>\n",
       "      <th>4594977</th>\n",
       "      <td>1526738292011462657</td>\n",
       "      <td>2022-05-18 01:35:48 UTC</td>\n",
       "      <td>Elizabe81480339</td>\n",
       "      <td>RT @Gonz1Gorjeperez: @tere_marinovic https://t...</td>\n",
       "      <td>0</td>\n",
       "      <td>0</td>\n",
       "    </tr>\n",
       "    <tr>\n",
       "      <th>4594978</th>\n",
       "      <td>1526855280151056386</td>\n",
       "      <td>2022-05-18 09:20:41 UTC</td>\n",
       "      <td>CastilloNafla</td>\n",
       "      <td>RT @Gonz1Gorjeperez: @tere_marinovic https://t...</td>\n",
       "      <td>0</td>\n",
       "      <td>0</td>\n",
       "    </tr>\n",
       "    <tr>\n",
       "      <th>4594979</th>\n",
       "      <td>1526764015795310594</td>\n",
       "      <td>2022-05-18 03:18:01 UTC</td>\n",
       "      <td>AndreaSakurada</td>\n",
       "      <td>RT @Gonz1Gorjeperez: @tere_marinovic https://t...</td>\n",
       "      <td>0</td>\n",
       "      <td>0</td>\n",
       "    </tr>\n",
       "  </tbody>\n",
       "</table>\n",
       "<p>4594980 rows × 6 columns</p>\n",
       "</div>"
      ],
      "text/plain": [
       "                          id               created_at      screen_name   \n",
       "0        1512186166438637582  2022-04-07 21:50:51 UTC      h0l4d4ni3l4  \\\n",
       "1        1512186202367045642  2022-04-07 21:51:00 UTC  Claudio70932894   \n",
       "2        1512186287284924418  2022-04-07 21:51:20 UTC       Cesar_A_RR   \n",
       "3        1512186335754301446  2022-04-07 21:51:32 UTC      rosmarieher   \n",
       "4        1512186407841767424  2022-04-07 21:51:49 UTC        GQuelluen   \n",
       "...                      ...                      ...              ...   \n",
       "4594975  1526652300709679104  2022-05-17 19:54:06 UTC     Alebarrera74   \n",
       "4594976  1526641118460334080  2022-05-17 19:09:40 UTC       gigita29bq   \n",
       "4594977  1526738292011462657  2022-05-18 01:35:48 UTC  Elizabe81480339   \n",
       "4594978  1526855280151056386  2022-05-18 09:20:41 UTC    CastilloNafla   \n",
       "4594979  1526764015795310594  2022-05-18 03:18:01 UTC   AndreaSakurada   \n",
       "\n",
       "                                                      text  favorite_count   \n",
       "0        RT @ValeMirandaCC: Tras casi 50 años del golpe...               0  \\\n",
       "1        RT @UTDTrabajoDigno: Mañana jueves a las 18hrs...               0   \n",
       "2        RT @JaimeGuajardoR: Aquí está el aporte de @te...               0   \n",
       "3        RT @melnicksergio: la pelotudez no tiene limit...               0   \n",
       "4        RT @BSepulvedaHales: Ante la circulación de no...               0   \n",
       "...                                                    ...             ...   \n",
       "4594975  RT @DanielAbelLope1: @tere_marinovic 😡🤮😡🤮 VIEJ...               0   \n",
       "4594976  RT @DanielAbelLope1: @tere_marinovic 😡🤮😡🤮 VIEJ...               0   \n",
       "4594977  RT @Gonz1Gorjeperez: @tere_marinovic https://t...               0   \n",
       "4594978  RT @Gonz1Gorjeperez: @tere_marinovic https://t...               0   \n",
       "4594979  RT @Gonz1Gorjeperez: @tere_marinovic https://t...               0   \n",
       "\n",
       "         retweet_count  \n",
       "0                    0  \n",
       "1                    0  \n",
       "2                    0  \n",
       "3                    0  \n",
       "4                    0  \n",
       "...                ...  \n",
       "4594975              0  \n",
       "4594976              0  \n",
       "4594977              0  \n",
       "4594978              0  \n",
       "4594979              0  \n",
       "\n",
       "[4594980 rows x 6 columns]"
      ]
     },
     "execution_count": 2,
     "metadata": {},
     "output_type": "execute_result"
    }
   ],
   "source": [
    "df =pd.read_csv(\"tweets_2022_abril_junio.csv\")\n",
    "df"
   ]
  },
  {
   "cell_type": "code",
   "execution_count": 35,
   "metadata": {},
   "outputs": [],
   "source": [
    "subconjunto = df.copy()\n",
    "s = 0.4\n",
    "k = 4"
   ]
  },
  {
   "attachments": {},
   "cell_type": "markdown",
   "metadata": {},
   "source": [
    "## Limpieza"
   ]
  },
  {
   "cell_type": "code",
   "execution_count": 36,
   "metadata": {},
   "outputs": [],
   "source": [
    "spanish_stopwords = stopwords.words('spanish')"
   ]
  },
  {
   "cell_type": "code",
   "execution_count": 37,
   "metadata": {},
   "outputs": [
    {
     "data": {
      "text/plain": [
       "'️ ayudenme favor conseguir informacion normas articulos cc rechazado. esto import…'"
      ]
     },
     "execution_count": 37,
     "metadata": {},
     "output_type": "execute_result"
    }
   ],
   "source": [
    "frase = \"RT @RudyPetrikowski: ⚠️ Ayúdenme por favor a conseguir la información de las normas o artículos que la CC ha rechazado.\\n\\nEsto es muy import…\"\n",
    "def eliminar_stopwords(frase):\n",
    "    palabras = frase.split(\" \")\n",
    "    retorno = []\n",
    "    for palabra in palabras:\n",
    "        if not palabra in spanish_stopwords:\n",
    "            retorno.append(palabra)\n",
    "    return \" \".join(retorno)\n",
    "def procesar_frase(frase):\n",
    "    if (frase.startswith(\"RT\")):\n",
    "        frase = ' '.join(frase.split(\": \")[1:])\n",
    "    \n",
    "    # sin hashatgs\n",
    "    frase = re.sub(r\"#\\w+\", \"\",frase)\n",
    "    # sin url\n",
    "    frase = re.sub(r\"https\\S+\", \"\",frase)\n",
    "    # sin emojis\n",
    "    patron_emoji = re.compile(\"[\\U0001F600-\\U0001F64F]|[\\U0001F300-\\U0001F5FF]|[\\U0001F680-\\U0001F6FF]|[\\U00002600-\\U000027BF]|[\\U0001F900-\\U0001F9FF]|[\\U0001F1E0-\\U0001F1FF]|[\\U0001F1F2-\\U0001F1F4]|[\\U0001F1E6-\\U0001F1FF]\")\n",
    "    frase = re.sub(patron_emoji, '', frase)\n",
    "    # sin espacios\n",
    "    frase = re.sub(r\"\\s+\", \" \",frase)\n",
    "    # eliminar tildes\n",
    "    frase = frase.replace(\"á\",\"a\")\n",
    "    frase = frase.replace(\"é\",\"e\")\n",
    "    frase = frase.replace(\"í\",\"i\")\n",
    "    frase = frase.replace(\"ó\",\"o\")\n",
    "    frase = frase.replace(\"ú\",\"u\")\n",
    "\n",
    "    frase = eliminar_stopwords(frase)\n",
    "    \n",
    "    # minusculas\n",
    "    frase = frase.lower()\n",
    "    frase = frase.strip()\n",
    "    return frase\n",
    "\n",
    "procesar_frase(frase)"
   ]
  },
  {
   "cell_type": "code",
   "execution_count": 38,
   "metadata": {},
   "outputs": [
    {
     "data": {
      "text/html": [
       "<div>\n",
       "<style scoped>\n",
       "    .dataframe tbody tr th:only-of-type {\n",
       "        vertical-align: middle;\n",
       "    }\n",
       "\n",
       "    .dataframe tbody tr th {\n",
       "        vertical-align: top;\n",
       "    }\n",
       "\n",
       "    .dataframe thead th {\n",
       "        text-align: right;\n",
       "    }\n",
       "</style>\n",
       "<table border=\"1\" class=\"dataframe\">\n",
       "  <thead>\n",
       "    <tr style=\"text-align: right;\">\n",
       "      <th></th>\n",
       "      <th>id</th>\n",
       "      <th>created_at</th>\n",
       "      <th>screen_name</th>\n",
       "      <th>text</th>\n",
       "      <th>favorite_count</th>\n",
       "      <th>retweet_count</th>\n",
       "    </tr>\n",
       "  </thead>\n",
       "  <tbody>\n",
       "    <tr>\n",
       "      <th>0</th>\n",
       "      <td>1512186166438637582</td>\n",
       "      <td>2022-04-07 21:50:51 UTC</td>\n",
       "      <td>h0l4d4ni3l4</td>\n",
       "      <td>RT @ValeMirandaCC: Tras casi 50 años del golpe...</td>\n",
       "      <td>0</td>\n",
       "      <td>0</td>\n",
       "    </tr>\n",
       "    <tr>\n",
       "      <th>1</th>\n",
       "      <td>1512186202367045642</td>\n",
       "      <td>2022-04-07 21:51:00 UTC</td>\n",
       "      <td>Claudio70932894</td>\n",
       "      <td>RT @UTDTrabajoDigno: Mañana jueves a las 18hrs...</td>\n",
       "      <td>0</td>\n",
       "      <td>0</td>\n",
       "    </tr>\n",
       "    <tr>\n",
       "      <th>2</th>\n",
       "      <td>1512186287284924418</td>\n",
       "      <td>2022-04-07 21:51:20 UTC</td>\n",
       "      <td>Cesar_A_RR</td>\n",
       "      <td>RT @JaimeGuajardoR: Aquí está el aporte de @te...</td>\n",
       "      <td>0</td>\n",
       "      <td>0</td>\n",
       "    </tr>\n",
       "    <tr>\n",
       "      <th>3</th>\n",
       "      <td>1512186335754301446</td>\n",
       "      <td>2022-04-07 21:51:32 UTC</td>\n",
       "      <td>rosmarieher</td>\n",
       "      <td>RT @melnicksergio: la pelotudez no tiene limit...</td>\n",
       "      <td>0</td>\n",
       "      <td>0</td>\n",
       "    </tr>\n",
       "    <tr>\n",
       "      <th>4</th>\n",
       "      <td>1512186407841767424</td>\n",
       "      <td>2022-04-07 21:51:49 UTC</td>\n",
       "      <td>GQuelluen</td>\n",
       "      <td>RT @BSepulvedaHales: Ante la circulación de no...</td>\n",
       "      <td>0</td>\n",
       "      <td>0</td>\n",
       "    </tr>\n",
       "    <tr>\n",
       "      <th>...</th>\n",
       "      <td>...</td>\n",
       "      <td>...</td>\n",
       "      <td>...</td>\n",
       "      <td>...</td>\n",
       "      <td>...</td>\n",
       "      <td>...</td>\n",
       "    </tr>\n",
       "    <tr>\n",
       "      <th>4549967</th>\n",
       "      <td>1526652300709679104</td>\n",
       "      <td>2022-05-17 19:54:06 UTC</td>\n",
       "      <td>Alebarrera74</td>\n",
       "      <td>RT @DanielAbelLope1: @tere_marinovic 😡🤮😡🤮 VIEJ...</td>\n",
       "      <td>0</td>\n",
       "      <td>0</td>\n",
       "    </tr>\n",
       "    <tr>\n",
       "      <th>4549968</th>\n",
       "      <td>1526641118460334080</td>\n",
       "      <td>2022-05-17 19:09:40 UTC</td>\n",
       "      <td>gigita29bq</td>\n",
       "      <td>RT @DanielAbelLope1: @tere_marinovic 😡🤮😡🤮 VIEJ...</td>\n",
       "      <td>0</td>\n",
       "      <td>0</td>\n",
       "    </tr>\n",
       "    <tr>\n",
       "      <th>4549969</th>\n",
       "      <td>1526738292011462657</td>\n",
       "      <td>2022-05-18 01:35:48 UTC</td>\n",
       "      <td>Elizabe81480339</td>\n",
       "      <td>RT @Gonz1Gorjeperez: @tere_marinovic https://t...</td>\n",
       "      <td>0</td>\n",
       "      <td>0</td>\n",
       "    </tr>\n",
       "    <tr>\n",
       "      <th>4549970</th>\n",
       "      <td>1526855280151056386</td>\n",
       "      <td>2022-05-18 09:20:41 UTC</td>\n",
       "      <td>CastilloNafla</td>\n",
       "      <td>RT @Gonz1Gorjeperez: @tere_marinovic https://t...</td>\n",
       "      <td>0</td>\n",
       "      <td>0</td>\n",
       "    </tr>\n",
       "    <tr>\n",
       "      <th>4549971</th>\n",
       "      <td>1526764015795310594</td>\n",
       "      <td>2022-05-18 03:18:01 UTC</td>\n",
       "      <td>AndreaSakurada</td>\n",
       "      <td>RT @Gonz1Gorjeperez: @tere_marinovic https://t...</td>\n",
       "      <td>0</td>\n",
       "      <td>0</td>\n",
       "    </tr>\n",
       "  </tbody>\n",
       "</table>\n",
       "<p>4549972 rows × 6 columns</p>\n",
       "</div>"
      ],
      "text/plain": [
       "                          id               created_at      screen_name   \n",
       "0        1512186166438637582  2022-04-07 21:50:51 UTC      h0l4d4ni3l4  \\\n",
       "1        1512186202367045642  2022-04-07 21:51:00 UTC  Claudio70932894   \n",
       "2        1512186287284924418  2022-04-07 21:51:20 UTC       Cesar_A_RR   \n",
       "3        1512186335754301446  2022-04-07 21:51:32 UTC      rosmarieher   \n",
       "4        1512186407841767424  2022-04-07 21:51:49 UTC        GQuelluen   \n",
       "...                      ...                      ...              ...   \n",
       "4549967  1526652300709679104  2022-05-17 19:54:06 UTC     Alebarrera74   \n",
       "4549968  1526641118460334080  2022-05-17 19:09:40 UTC       gigita29bq   \n",
       "4549969  1526738292011462657  2022-05-18 01:35:48 UTC  Elizabe81480339   \n",
       "4549970  1526855280151056386  2022-05-18 09:20:41 UTC    CastilloNafla   \n",
       "4549971  1526764015795310594  2022-05-18 03:18:01 UTC   AndreaSakurada   \n",
       "\n",
       "                                                      text  favorite_count   \n",
       "0        RT @ValeMirandaCC: Tras casi 50 años del golpe...               0  \\\n",
       "1        RT @UTDTrabajoDigno: Mañana jueves a las 18hrs...               0   \n",
       "2        RT @JaimeGuajardoR: Aquí está el aporte de @te...               0   \n",
       "3        RT @melnicksergio: la pelotudez no tiene limit...               0   \n",
       "4        RT @BSepulvedaHales: Ante la circulación de no...               0   \n",
       "...                                                    ...             ...   \n",
       "4549967  RT @DanielAbelLope1: @tere_marinovic 😡🤮😡🤮 VIEJ...               0   \n",
       "4549968  RT @DanielAbelLope1: @tere_marinovic 😡🤮😡🤮 VIEJ...               0   \n",
       "4549969  RT @Gonz1Gorjeperez: @tere_marinovic https://t...               0   \n",
       "4549970  RT @Gonz1Gorjeperez: @tere_marinovic https://t...               0   \n",
       "4549971  RT @Gonz1Gorjeperez: @tere_marinovic https://t...               0   \n",
       "\n",
       "         retweet_count  \n",
       "0                    0  \n",
       "1                    0  \n",
       "2                    0  \n",
       "3                    0  \n",
       "4                    0  \n",
       "...                ...  \n",
       "4549967              0  \n",
       "4549968              0  \n",
       "4549969              0  \n",
       "4549970              0  \n",
       "4549971              0  \n",
       "\n",
       "[4549972 rows x 6 columns]"
      ]
     },
     "execution_count": 38,
     "metadata": {},
     "output_type": "execute_result"
    }
   ],
   "source": [
    "subconjunto = subconjunto.drop_duplicates([\"screen_name\",\"text\"]).reset_index(drop=True)\n",
    "subconjunto"
   ]
  },
  {
   "cell_type": "code",
   "execution_count": 39,
   "metadata": {},
   "outputs": [],
   "source": [
    "agrupado = subconjunto.groupby('screen_name').agg({'text': list})\n",
    "agrupado['indices'] = subconjunto.groupby('screen_name').apply(lambda x: x.index.tolist()).values"
   ]
  },
  {
   "cell_type": "code",
   "execution_count": 40,
   "metadata": {},
   "outputs": [
    {
     "data": {
      "text/plain": [
       "screen_name\n",
       "0000000000000JL    [487478, 822212, 911988, 2893127, 2927508, 344...\n",
       "00001009082AA                                              [3330451]\n",
       "0001Andino                                                 [4298319]\n",
       "000Pancho000                                               [3209962]\n",
       "00132MC                                                    [3374997]\n",
       "                                         ...                        \n",
       "zzeendo            [701805, 758247, 2201849, 2751376, 3423484, 34...\n",
       "zzmatia1           [440698, 654322, 922384, 1160316, 1455774, 176...\n",
       "zzonck             [2477, 150688, 293644, 302268, 356696, 410598,...\n",
       "zztoprock1         [94113, 97385, 337760, 457223, 540458, 740315,...\n",
       "zzurita                         [1284584, 1979972, 2029902, 3700944]\n",
       "Name: indices, Length: 208139, dtype: object"
      ]
     },
     "execution_count": 40,
     "metadata": {},
     "output_type": "execute_result"
    }
   ],
   "source": [
    "agrupado[\"indices\"]"
   ]
  },
  {
   "attachments": {},
   "cell_type": "markdown",
   "metadata": {},
   "source": [
    "### Intento 1\n",
    "Calcular similitudes directo (Lento)"
   ]
  },
  {
   "cell_type": "code",
   "execution_count": 8,
   "metadata": {},
   "outputs": [],
   "source": [
    "# def Jaccard(set1, set2):\n",
    "#     interseccion = len(set1.intersection(set2))\n",
    "#     union = len(set1.union(set2))\n",
    "#     if (union == 0):\n",
    "#         return 0\n",
    "#     return (1 - (interseccion / union))\n"
   ]
  },
  {
   "cell_type": "code",
   "execution_count": 9,
   "metadata": {},
   "outputs": [],
   "source": [
    "# similarity_scores = []\n",
    "# for i in range(subconjunto.shape[0]):\n",
    "#     for j in range(i+1, subconjunto.shape[0]):\n",
    "#         user1 = subconjunto.at[i, 'screen_name']\n",
    "#         user2 = subconjunto.at[j, 'screen_name']\n",
    "#         if user1 != user2:\n",
    "#             shingles1 = subconjunto.at[i, 'text']\n",
    "#             shingles2 = subconjunto.at[j, 'text']\n",
    "#             similarity = Jaccard(set(shingles1), set(shingles2))\n",
    "#             if similarity <= s:\n",
    "#                 similarity_scores.append((user1, user2, similarity))"
   ]
  },
  {
   "cell_type": "code",
   "execution_count": 10,
   "metadata": {},
   "outputs": [],
   "source": [
    "# for i in similarity_scores:\n",
    "#     if i[2] <= s:\n",
    "#         print(i)"
   ]
  },
  {
   "cell_type": "code",
   "execution_count": 11,
   "metadata": {},
   "outputs": [],
   "source": [
    "# subconjunto[subconjunto[\"screen_name\"]==\"h0l4d4ni3l4\"]"
   ]
  },
  {
   "cell_type": "code",
   "execution_count": 12,
   "metadata": {},
   "outputs": [],
   "source": [
    "# subconjunto[subconjunto[\"screen_name\"]==\"Valegonsep\"].iloc[0].name"
   ]
  },
  {
   "attachments": {},
   "cell_type": "markdown",
   "metadata": {},
   "source": [
    "### Intento 2 (Mejorable)\n",
    "Matriz de similitud"
   ]
  },
  {
   "cell_type": "code",
   "execution_count": 13,
   "metadata": {},
   "outputs": [],
   "source": [
    "# def crear_hash(a, b, primo, modulo):\n",
    "#     def f(x):\n",
    "#         return ((a * x + b) % primo) % modulo\n",
    "#     return f"
   ]
  },
  {
   "cell_type": "code",
   "execution_count": 14,
   "metadata": {},
   "outputs": [],
   "source": [
    "# # Contamos el total de elementos diferentes\n",
    "# un = set()\n",
    "# for i in range(subconjunto.shape[0]):\n",
    "#         shingl = set(subconjunto.at[i, 'text'])\n",
    "#         un = un.union(shingl)\n",
    "\n",
    "# n_elementos = len(un)\n",
    "# n_elementos"
   ]
  },
  {
   "cell_type": "code",
   "execution_count": 15,
   "metadata": {},
   "outputs": [],
   "source": [
    "# # Encontramos un primo mayor que n \n",
    "# def es_primo(num):\n",
    "#     if num < 2:\n",
    "#         return False\n",
    "#     for i in range(2, int(num**0.5) + 1):\n",
    "#         if num % i == 0:\n",
    "#             return False\n",
    "#     return True\n",
    "\n",
    "\n",
    "# def siguiente_primo(n):\n",
    "#     siguiente = n + 1\n",
    "#     while True:\n",
    "#         if es_primo(siguiente):\n",
    "#             return siguiente\n",
    "#         siguiente += 1\n",
    "\n",
    "\n",
    "# numero = 15512\n",
    "# prox_primo = siguiente_primo(numero)\n",
    "# prox_primo"
   ]
  },
  {
   "cell_type": "code",
   "execution_count": 16,
   "metadata": {},
   "outputs": [],
   "source": [
    "# h = []\n",
    "# num_hash = 50\n",
    "# for i in range(num_hash):\n",
    "#     a = random.randint(1,prox_primo-1)\n",
    "#     b = random.randint(1,prox_primo-1)\n",
    "#     h.append(crear_hash(a,b,prox_primo,n_elementos))"
   ]
  },
  {
   "cell_type": "code",
   "execution_count": 17,
   "metadata": {},
   "outputs": [],
   "source": [
    "# n_tweets = subconjunto.shape[0]\n",
    "# FH = [[n_elementos+1 for j in range(n_tweets)] for i in range(num_hash)]\n",
    "\n",
    "# for i in range(subconjunto.shape[0]):\n",
    "#         shingl = set(subconjunto.at[i, 'text'])\n",
    "#         un = un.union(shingl)\n",
    "#         sorted_union = sorted(un)"
   ]
  },
  {
   "cell_type": "code",
   "execution_count": 18,
   "metadata": {},
   "outputs": [],
   "source": [
    "# sorted_union[0] not in subconjunto.at[0, 'text']"
   ]
  },
  {
   "cell_type": "code",
   "execution_count": 19,
   "metadata": {},
   "outputs": [],
   "source": [
    "# sorted_union[0] "
   ]
  },
  {
   "cell_type": "code",
   "execution_count": 20,
   "metadata": {},
   "outputs": [],
   "source": [
    "# for e in range(0,len(sorted_union)): \n",
    "#     ### iteramos cada columna, correspondiente a la cantidad de textos (tweets en nuestro caso)  \n",
    "#     for i in range(0,n_tweets):\n",
    "#         ### si el elemento e no está en el texto i, no hacemos nada\n",
    "#         if sorted_union[e] not in subconjunto.at[i, 'text']:\n",
    "#             pass\n",
    "#         ### si el elemento si está, computamos los valores de h(e) y \n",
    "#         else:\n",
    "#             for j in range(0,num_hash):\n",
    "#                 FH[j][i] = min(FH[j][i],h[j](e))"
   ]
  },
  {
   "cell_type": "code",
   "execution_count": 21,
   "metadata": {},
   "outputs": [],
   "source": [
    "# for row in FH:\n",
    "#     print(row)  "
   ]
  },
  {
   "cell_type": "code",
   "execution_count": 22,
   "metadata": {},
   "outputs": [],
   "source": [
    "# # Tweets 1 y 127\n",
    "# cuenta = 0\n",
    "# print(' 0     126 ')\n",
    "# print('---------')  \n",
    "# for row in FH:\n",
    "#     if row[0]==row[127]:\n",
    "#         cuenta += 1\n",
    "#     print('|'+str(row[0])+'|   |'+str(row[127])+'|')  \n",
    "# print('proporcion de la fila: '+str(cuenta/num_hash))"
   ]
  },
  {
   "cell_type": "code",
   "execution_count": 23,
   "metadata": {},
   "outputs": [],
   "source": [
    "# def similitud_de_pares(id, ogs, l):\n",
    "#     persona = subconjunto.at[id,\"screen_name\"] \n",
    "#     datata_person = subconjunto[subconjunto[\"screen_name\"]== persona]\n",
    "#     n_tweet_persona = datata_person.shape[0]\n",
    "\n",
    "#     similares = {}\n",
    "#     for e in range(n_tweets):\n",
    "#         persona2 =subconjunto.at[e,\"screen_name\"]\n",
    "#         if persona != persona2:\n",
    "#             similares[persona2] = (0,0)\n",
    "\n",
    "#     for i in range(n_tweet_persona):\n",
    "#         n_twet = datata_person.iloc[i].name\n",
    "#         for e in range(n_tweets):\n",
    "#             persona2 =subconjunto.at[e,\"screen_name\"]\n",
    "#             if persona != persona2:\n",
    "#                 cuenta_persona = similares[persona2][1]\n",
    "#                 colisiones_persona = similares[persona2][1]\n",
    "#                 cuenta = 0\n",
    "#                 for row in FH:\n",
    "#                     if row[n_twet]==row[e]:\n",
    "#                         cuenta += 1\n",
    "                \n",
    "#                 cuenta_persona +=1\n",
    "#                 if cuenta/num_hash >= s:\n",
    "#                     colisiones_persona += 1\n",
    "#                 similares[persona2] = (cuenta_persona,colisiones_persona)\n",
    "    \n",
    "\n",
    "#     for i in similares.keys():\n",
    "#         if similares[i][1] != (0,0):\n",
    "#             if similares[i][1] >= l:\n",
    "#                 if similares[i][0]>= k:\n",
    "#                     ogs[persona].append(i)\n",
    "#     return ogs"
   ]
  },
  {
   "cell_type": "code",
   "execution_count": 24,
   "metadata": {},
   "outputs": [],
   "source": [
    "# personas = subconjunto['screen_name'].unique().tolist()\n",
    "# ogs = {}\n",
    "# for persona in personas:\n",
    "#     ogs[persona]=[]"
   ]
  },
  {
   "cell_type": "code",
   "execution_count": 25,
   "metadata": {},
   "outputs": [],
   "source": [
    "# personas_unicas = subconjunto.drop_duplicates(subset='screen_name', keep='first')\n",
    "\n",
    "# for i in range(len(personas_unicas)):\n",
    "#     indice = personas_unicas.iloc[i].name\n",
    "#     ogs = similitud_de_pares(indice, ogs, 3)"
   ]
  },
  {
   "cell_type": "code",
   "execution_count": 26,
   "metadata": {},
   "outputs": [],
   "source": [
    "# ogs"
   ]
  },
  {
   "attachments": {},
   "cell_type": "markdown",
   "metadata": {},
   "source": [
    "## Intento 3 (Definitivo)\n",
    "Usamos librerias junto con el concepto anterior"
   ]
  },
  {
   "cell_type": "code",
   "execution_count": 41,
   "metadata": {},
   "outputs": [],
   "source": [
    "def shingle(frase , tamaño_ventana):\n",
    "    shingles = []\n",
    "    for i in range(len(frase) - tamaño_ventana +1):\n",
    "        shingle = ' '.join(frase[i:i+tamaño_ventana])\n",
    "        shingles.append(shingle)\n",
    "    return shingles\n",
    "\n",
    "subconjunto[\"text\"] = subconjunto[\"text\"].apply(procesar_frase)\n",
    "subconjunto[\"text\"] = subconjunto[\"text\"].str.split().apply(lambda x: np.array(x)).apply(lambda x: shingle(x,k))"
   ]
  },
  {
   "cell_type": "code",
   "execution_count": 46,
   "metadata": {},
   "outputs": [],
   "source": [
    "subconjunto = subconjunto[subconjunto['text'].apply(lambda x: len(x) > 0)]"
   ]
  },
  {
   "cell_type": "code",
   "execution_count": 47,
   "metadata": {},
   "outputs": [
    {
     "data": {
      "text/plain": [
       "0          [tras casi 50 años, casi 50 años golpe,, 50 añ...\n",
       "1          [mañana jueves 18hrs. comienza, jueves 18hrs. ...\n",
       "2          [aqui aporte @tere_marinovic respecto, aporte ...\n",
       "4          [ante circulacion noticias falsas,, circulacio...\n",
       "5          [@rodrigo_logan pesima respuesta. deberias, pe...\n",
       "                                 ...                        \n",
       "4549959    [@ignacioachurra nuestra bandera fragmentada.,...\n",
       "4549960    [@tere_marinovic el nuevo ministerio, el nuevo...\n",
       "4549961    [@tere_marinovic el nuevo ministerio, el nuevo...\n",
       "4549962    [@tere_marinovic el nuevo ministerio, el nuevo...\n",
       "4549963    [@tere_marinovic el nuevo ministerio, el nuevo...\n",
       "Name: text, Length: 4019415, dtype: object"
      ]
     },
     "execution_count": 47,
     "metadata": {},
     "output_type": "execute_result"
    }
   ],
   "source": [
    "subconjunto['text']"
   ]
  },
  {
   "cell_type": "code",
   "execution_count": 48,
   "metadata": {},
   "outputs": [
    {
     "data": {
      "text/html": [
       "<div>\n",
       "<style scoped>\n",
       "    .dataframe tbody tr th:only-of-type {\n",
       "        vertical-align: middle;\n",
       "    }\n",
       "\n",
       "    .dataframe tbody tr th {\n",
       "        vertical-align: top;\n",
       "    }\n",
       "\n",
       "    .dataframe thead th {\n",
       "        text-align: right;\n",
       "    }\n",
       "</style>\n",
       "<table border=\"1\" class=\"dataframe\">\n",
       "  <thead>\n",
       "    <tr style=\"text-align: right;\">\n",
       "      <th></th>\n",
       "      <th>id</th>\n",
       "      <th>created_at</th>\n",
       "      <th>screen_name</th>\n",
       "      <th>text</th>\n",
       "      <th>favorite_count</th>\n",
       "      <th>retweet_count</th>\n",
       "    </tr>\n",
       "  </thead>\n",
       "  <tbody>\n",
       "    <tr>\n",
       "      <th>0</th>\n",
       "      <td>1512186166438637582</td>\n",
       "      <td>2022-04-07 21:50:51 UTC</td>\n",
       "      <td>h0l4d4ni3l4</td>\n",
       "      <td>[tras casi 50 años, casi 50 años golpe,, 50 añ...</td>\n",
       "      <td>0</td>\n",
       "      <td>0</td>\n",
       "    </tr>\n",
       "    <tr>\n",
       "      <th>1</th>\n",
       "      <td>1512186202367045642</td>\n",
       "      <td>2022-04-07 21:51:00 UTC</td>\n",
       "      <td>Claudio70932894</td>\n",
       "      <td>[mañana jueves 18hrs. comienza, jueves 18hrs. ...</td>\n",
       "      <td>0</td>\n",
       "      <td>0</td>\n",
       "    </tr>\n",
       "    <tr>\n",
       "      <th>2</th>\n",
       "      <td>1512186287284924418</td>\n",
       "      <td>2022-04-07 21:51:20 UTC</td>\n",
       "      <td>Cesar_A_RR</td>\n",
       "      <td>[aqui aporte @tere_marinovic respecto, aporte ...</td>\n",
       "      <td>0</td>\n",
       "      <td>0</td>\n",
       "    </tr>\n",
       "    <tr>\n",
       "      <th>4</th>\n",
       "      <td>1512186407841767424</td>\n",
       "      <td>2022-04-07 21:51:49 UTC</td>\n",
       "      <td>GQuelluen</td>\n",
       "      <td>[ante circulacion noticias falsas,, circulacio...</td>\n",
       "      <td>0</td>\n",
       "      <td>0</td>\n",
       "    </tr>\n",
       "    <tr>\n",
       "      <th>5</th>\n",
       "      <td>1512186484731744256</td>\n",
       "      <td>2022-04-07 21:52:07 UTC</td>\n",
       "      <td>iramirezpavez</td>\n",
       "      <td>[@rodrigo_logan pesima respuesta. deberias, pe...</td>\n",
       "      <td>0</td>\n",
       "      <td>0</td>\n",
       "    </tr>\n",
       "    <tr>\n",
       "      <th>...</th>\n",
       "      <td>...</td>\n",
       "      <td>...</td>\n",
       "      <td>...</td>\n",
       "      <td>...</td>\n",
       "      <td>...</td>\n",
       "      <td>...</td>\n",
       "    </tr>\n",
       "    <tr>\n",
       "      <th>4549959</th>\n",
       "      <td>1526607670974685186</td>\n",
       "      <td>2022-05-17 16:56:46 UTC</td>\n",
       "      <td>clabarra01</td>\n",
       "      <td>[@ignacioachurra nuestra bandera fragmentada.,...</td>\n",
       "      <td>0</td>\n",
       "      <td>0</td>\n",
       "    </tr>\n",
       "    <tr>\n",
       "      <th>4549960</th>\n",
       "      <td>1526560610422558722</td>\n",
       "      <td>2022-05-17 13:49:46 UTC</td>\n",
       "      <td>Anitace</td>\n",
       "      <td>[@tere_marinovic el nuevo ministerio, el nuevo...</td>\n",
       "      <td>0</td>\n",
       "      <td>0</td>\n",
       "    </tr>\n",
       "    <tr>\n",
       "      <th>4549961</th>\n",
       "      <td>1526563563749314560</td>\n",
       "      <td>2022-05-17 14:01:30 UTC</td>\n",
       "      <td>EllaResponde</td>\n",
       "      <td>[@tere_marinovic el nuevo ministerio, el nuevo...</td>\n",
       "      <td>0</td>\n",
       "      <td>0</td>\n",
       "    </tr>\n",
       "    <tr>\n",
       "      <th>4549962</th>\n",
       "      <td>1526678643421786112</td>\n",
       "      <td>2022-05-17 21:38:47 UTC</td>\n",
       "      <td>CeaKrisil</td>\n",
       "      <td>[@tere_marinovic el nuevo ministerio, el nuevo...</td>\n",
       "      <td>0</td>\n",
       "      <td>0</td>\n",
       "    </tr>\n",
       "    <tr>\n",
       "      <th>4549963</th>\n",
       "      <td>1526630216176570369</td>\n",
       "      <td>2022-05-17 18:26:21 UTC</td>\n",
       "      <td>Gonzalo68737901</td>\n",
       "      <td>[@tere_marinovic el nuevo ministerio, el nuevo...</td>\n",
       "      <td>0</td>\n",
       "      <td>0</td>\n",
       "    </tr>\n",
       "  </tbody>\n",
       "</table>\n",
       "<p>4019415 rows × 6 columns</p>\n",
       "</div>"
      ],
      "text/plain": [
       "                          id               created_at      screen_name   \n",
       "0        1512186166438637582  2022-04-07 21:50:51 UTC      h0l4d4ni3l4  \\\n",
       "1        1512186202367045642  2022-04-07 21:51:00 UTC  Claudio70932894   \n",
       "2        1512186287284924418  2022-04-07 21:51:20 UTC       Cesar_A_RR   \n",
       "4        1512186407841767424  2022-04-07 21:51:49 UTC        GQuelluen   \n",
       "5        1512186484731744256  2022-04-07 21:52:07 UTC    iramirezpavez   \n",
       "...                      ...                      ...              ...   \n",
       "4549959  1526607670974685186  2022-05-17 16:56:46 UTC       clabarra01   \n",
       "4549960  1526560610422558722  2022-05-17 13:49:46 UTC          Anitace   \n",
       "4549961  1526563563749314560  2022-05-17 14:01:30 UTC     EllaResponde   \n",
       "4549962  1526678643421786112  2022-05-17 21:38:47 UTC        CeaKrisil   \n",
       "4549963  1526630216176570369  2022-05-17 18:26:21 UTC  Gonzalo68737901   \n",
       "\n",
       "                                                      text  favorite_count   \n",
       "0        [tras casi 50 años, casi 50 años golpe,, 50 añ...               0  \\\n",
       "1        [mañana jueves 18hrs. comienza, jueves 18hrs. ...               0   \n",
       "2        [aqui aporte @tere_marinovic respecto, aporte ...               0   \n",
       "4        [ante circulacion noticias falsas,, circulacio...               0   \n",
       "5        [@rodrigo_logan pesima respuesta. deberias, pe...               0   \n",
       "...                                                    ...             ...   \n",
       "4549959  [@ignacioachurra nuestra bandera fragmentada.,...               0   \n",
       "4549960  [@tere_marinovic el nuevo ministerio, el nuevo...               0   \n",
       "4549961  [@tere_marinovic el nuevo ministerio, el nuevo...               0   \n",
       "4549962  [@tere_marinovic el nuevo ministerio, el nuevo...               0   \n",
       "4549963  [@tere_marinovic el nuevo ministerio, el nuevo...               0   \n",
       "\n",
       "         retweet_count  \n",
       "0                    0  \n",
       "1                    0  \n",
       "2                    0  \n",
       "4                    0  \n",
       "5                    0  \n",
       "...                ...  \n",
       "4549959              0  \n",
       "4549960              0  \n",
       "4549961              0  \n",
       "4549962              0  \n",
       "4549963              0  \n",
       "\n",
       "[4019415 rows x 6 columns]"
      ]
     },
     "execution_count": 48,
     "metadata": {},
     "output_type": "execute_result"
    }
   ],
   "source": [
    "subconjunto"
   ]
  },
  {
   "cell_type": "code",
   "execution_count": 49,
   "metadata": {},
   "outputs": [],
   "source": [
    "def m_caracteristica(subconjun, sample_size):\n",
    "    tweets = subconjun\n",
    "    tweets = tweets.sample(sample_size)\n",
    "    ides = list(tweets[\"id\"])\n",
    "    shingles = tweets[\"text\"].to_numpy()\n",
    "    mlb = MultiLabelBinarizer(sparse_output=True)\n",
    "    return (mlb.fit_transform(shingles),ides)"
   ]
  },
  {
   "cell_type": "code",
   "execution_count": 50,
   "metadata": {},
   "outputs": [],
   "source": [
    "pares = []\n",
    "for i in range(14):\n",
    "    matrix, ides = m_caracteristica(subconjunto, 300000)\n",
    "    pares.append((matrix, ides))"
   ]
  },
  {
   "cell_type": "code",
   "execution_count": 53,
   "metadata": {},
   "outputs": [],
   "source": [
    "n_pm= 119\n",
    "\n",
    "def minhash_vec(sparce_vector):\n",
    "    minhash = MinHash(n_pm)\n",
    "    for i in sparce_vector.indices:\n",
    "        minhash.update(str(i).encode(\"utf8\"))\n",
    "    return minhash"
   ]
  },
  {
   "cell_type": "code",
   "execution_count": null,
   "metadata": {},
   "outputs": [],
   "source": [
    "primer_par = pares[0]\n",
    "matrix = primer_par[0]\n",
    "ides = primer_par[1]"
   ]
  },
  {
   "cell_type": "code",
   "execution_count": 54,
   "metadata": {},
   "outputs": [],
   "source": [
    "thrld = 0.4\n",
    "lsh = MinHashLSH(thrld,n_pm)\n",
    "list_hash = []\n",
    "for i in range(matrix.shape[0]):\n",
    "    list_hash.append((i,minhash_vec(matrix[i])))\n",
    "\n",
    "with lsh.insertion_session() as session:\n",
    "    for i , minhash in list_hash:\n",
    "        session.insert(i, minhash)"
   ]
  },
  {
   "cell_type": "code",
   "execution_count": 23,
   "metadata": {},
   "outputs": [
    {
     "data": {
      "text/plain": [
       "300000"
      ]
     },
     "execution_count": 23,
     "metadata": {},
     "output_type": "execute_result"
    }
   ],
   "source": [
    "len(list_hash)"
   ]
  },
  {
   "cell_type": "code",
   "execution_count": 26,
   "metadata": {},
   "outputs": [
    {
     "name": "stdout",
     "output_type": "stream",
     "text": [
      "1511770098343755780\n"
     ]
    },
    {
     "data": {
      "text/plain": [
       "[147459,\n",
       " 4103,\n",
       " 74257,\n",
       " 230426,\n",
       " 8731,\n",
       " 168989,\n",
       " 168489,\n",
       " 98876,\n",
       " 144455,\n",
       " 79944,\n",
       " 280137,\n",
       " 36948,\n",
       " 221277,\n",
       " 108639,\n",
       " 103008,\n",
       " 185448,\n",
       " 146030,\n",
       " 76916,\n",
       " 38520,\n",
       " 35450,\n",
       " 81557,\n",
       " 175766,\n",
       " 289432,\n",
       " 174751,\n",
       " 231077,\n",
       " 127657,\n",
       " 13485,\n",
       " 233134,\n",
       " 279226,\n",
       " 104127,\n",
       " 281287,\n",
       " 24781,\n",
       " 152784,\n",
       " 193233,\n",
       " 297173,\n",
       " 214744,\n",
       " 48863,\n",
       " 31978,\n",
       " 241900,\n",
       " 50927,\n",
       " 146676,\n",
       " 120054,\n",
       " 6393,\n",
       " 205056,\n",
       " 120578,\n",
       " 63750,\n",
       " 269579,\n",
       " 50457,\n",
       " 129310,\n",
       " 97567,\n",
       " 252195,\n",
       " 246053,\n",
       " 80680,\n",
       " 211758,\n",
       " 165692,\n",
       " 38731,\n",
       " 167755,\n",
       " 73037,\n",
       " 251213,\n",
       " 270669,\n",
       " 214361,\n",
       " 13168,\n",
       " 55666,\n",
       " 241523,\n",
       " 128372,\n",
       " 178042,\n",
       " 197513,\n",
       " 175501,\n",
       " 197008,\n",
       " 63900,\n",
       " 252329,\n",
       " 74154,\n",
       " 42924,\n",
       " 213421,\n",
       " 262572,\n",
       " 289215,\n",
       " 231363,\n",
       " 103368,\n",
       " 96719,\n",
       " 198607,\n",
       " 260560,\n",
       " 1000,\n",
       " 19945,\n",
       " 163817,\n",
       " 185338,\n",
       " 216061]"
      ]
     },
     "execution_count": 26,
     "metadata": {},
     "output_type": "execute_result"
    }
   ],
   "source": [
    "id_tweet = ides[1000]\n",
    "print(id_tweet)\n",
    "m = minhash_vec(matrix[1000])\n",
    "aprox = lsh.query(m)\n",
    "aprox"
   ]
  },
  {
   "cell_type": "code",
   "execution_count": 27,
   "metadata": {},
   "outputs": [],
   "source": [
    "idd = 1000\n",
    "m = minhash_vec(matrix[idd])\n",
    "aprox = lsh.query(m)\n",
    "\n",
    "subconjunto.iloc[idd][\"text\"]\n",
    "\n",
    "reps = {}\n",
    "for i in aprox:\n",
    "    twet = subconjunto.iloc[i]\n",
    "    if not twet[\"screen_name\"] in reps.keys():\n",
    "        reps[twet[\"screen_name\"]] =1\n",
    "    else:\n",
    "        reps[twet[\"screen_name\"]] +=1\n"
   ]
  },
  {
   "cell_type": "code",
   "execution_count": 32,
   "metadata": {},
   "outputs": [],
   "source": [
    "defi = []\n",
    "for i in reps.keys():\n",
    "    if reps[i] >= 2:\n",
    "        defi.append(i)"
   ]
  },
  {
   "cell_type": "code",
   "execution_count": 33,
   "metadata": {},
   "outputs": [
    {
     "data": {
      "text/plain": [
       "['sdalmazzo']"
      ]
     },
     "execution_count": 33,
     "metadata": {},
     "output_type": "execute_result"
    }
   ],
   "source": [
    "defi"
   ]
  },
  {
   "cell_type": "code",
   "execution_count": 146,
   "metadata": {},
   "outputs": [
    {
     "data": {
      "text/plain": [
       "[0, 2, 6, 7, 8, 9, 13, 14, 16, 17, 18, 19]"
      ]
     },
     "execution_count": 146,
     "metadata": {},
     "output_type": "execute_result"
    }
   ],
   "source": [
    "m = minhash_vec(matrix[19])\n",
    "lsh.query(m)"
   ]
  }
 ],
 "metadata": {
  "kernelspec": {
   "display_name": "Python 3",
   "language": "python",
   "name": "python3"
  },
  "language_info": {
   "codemirror_mode": {
    "name": "ipython",
    "version": 3
   },
   "file_extension": ".py",
   "mimetype": "text/x-python",
   "name": "python",
   "nbconvert_exporter": "python",
   "pygments_lexer": "ipython3",
   "version": "3.11.3"
  },
  "orig_nbformat": 4
 },
 "nbformat": 4,
 "nbformat_minor": 2
}
