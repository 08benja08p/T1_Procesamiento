{
 "cells": [
  {
   "cell_type": "code",
   "execution_count": 1,
   "metadata": {},
   "outputs": [],
   "source": [
    "import pandas as pd\n",
    "import numpy as np\n",
    "from sklearn.preprocessing import MultiLabelBinarizer\n",
    "from nltk.corpus import stopwords\n",
    "import re\n",
    "from datasketch import MinHash,MinHashLSH\n",
    "from concurrent.futures import ThreadPoolExecutor"
   ]
  },
  {
   "cell_type": "code",
   "execution_count": 2,
   "metadata": {},
   "outputs": [
    {
     "data": {
      "text/html": [
       "<div>\n",
       "<style scoped>\n",
       "    .dataframe tbody tr th:only-of-type {\n",
       "        vertical-align: middle;\n",
       "    }\n",
       "\n",
       "    .dataframe tbody tr th {\n",
       "        vertical-align: top;\n",
       "    }\n",
       "\n",
       "    .dataframe thead th {\n",
       "        text-align: right;\n",
       "    }\n",
       "</style>\n",
       "<table border=\"1\" class=\"dataframe\">\n",
       "  <thead>\n",
       "    <tr style=\"text-align: right;\">\n",
       "      <th></th>\n",
       "      <th>id</th>\n",
       "      <th>created_at</th>\n",
       "      <th>screen_name</th>\n",
       "      <th>text</th>\n",
       "      <th>favorite_count</th>\n",
       "      <th>retweet_count</th>\n",
       "    </tr>\n",
       "  </thead>\n",
       "  <tbody>\n",
       "    <tr>\n",
       "      <th>0</th>\n",
       "      <td>1512186166438637582</td>\n",
       "      <td>2022-04-07 21:50:51 UTC</td>\n",
       "      <td>h0l4d4ni3l4</td>\n",
       "      <td>RT @ValeMirandaCC: Tras casi 50 años del golpe...</td>\n",
       "      <td>0</td>\n",
       "      <td>0</td>\n",
       "    </tr>\n",
       "    <tr>\n",
       "      <th>1</th>\n",
       "      <td>1512186202367045642</td>\n",
       "      <td>2022-04-07 21:51:00 UTC</td>\n",
       "      <td>Claudio70932894</td>\n",
       "      <td>RT @UTDTrabajoDigno: Mañana jueves a las 18hrs...</td>\n",
       "      <td>0</td>\n",
       "      <td>0</td>\n",
       "    </tr>\n",
       "    <tr>\n",
       "      <th>2</th>\n",
       "      <td>1512186287284924418</td>\n",
       "      <td>2022-04-07 21:51:20 UTC</td>\n",
       "      <td>Cesar_A_RR</td>\n",
       "      <td>RT @JaimeGuajardoR: Aquí está el aporte de @te...</td>\n",
       "      <td>0</td>\n",
       "      <td>0</td>\n",
       "    </tr>\n",
       "    <tr>\n",
       "      <th>3</th>\n",
       "      <td>1512186335754301446</td>\n",
       "      <td>2022-04-07 21:51:32 UTC</td>\n",
       "      <td>rosmarieher</td>\n",
       "      <td>RT @melnicksergio: la pelotudez no tiene limit...</td>\n",
       "      <td>0</td>\n",
       "      <td>0</td>\n",
       "    </tr>\n",
       "    <tr>\n",
       "      <th>4</th>\n",
       "      <td>1512186407841767424</td>\n",
       "      <td>2022-04-07 21:51:49 UTC</td>\n",
       "      <td>GQuelluen</td>\n",
       "      <td>RT @BSepulvedaHales: Ante la circulación de no...</td>\n",
       "      <td>0</td>\n",
       "      <td>0</td>\n",
       "    </tr>\n",
       "    <tr>\n",
       "      <th>...</th>\n",
       "      <td>...</td>\n",
       "      <td>...</td>\n",
       "      <td>...</td>\n",
       "      <td>...</td>\n",
       "      <td>...</td>\n",
       "      <td>...</td>\n",
       "    </tr>\n",
       "    <tr>\n",
       "      <th>4594975</th>\n",
       "      <td>1526652300709679104</td>\n",
       "      <td>2022-05-17 19:54:06 UTC</td>\n",
       "      <td>Alebarrera74</td>\n",
       "      <td>RT @DanielAbelLope1: @tere_marinovic 😡🤮😡🤮 VIEJ...</td>\n",
       "      <td>0</td>\n",
       "      <td>0</td>\n",
       "    </tr>\n",
       "    <tr>\n",
       "      <th>4594976</th>\n",
       "      <td>1526641118460334080</td>\n",
       "      <td>2022-05-17 19:09:40 UTC</td>\n",
       "      <td>gigita29bq</td>\n",
       "      <td>RT @DanielAbelLope1: @tere_marinovic 😡🤮😡🤮 VIEJ...</td>\n",
       "      <td>0</td>\n",
       "      <td>0</td>\n",
       "    </tr>\n",
       "    <tr>\n",
       "      <th>4594977</th>\n",
       "      <td>1526738292011462657</td>\n",
       "      <td>2022-05-18 01:35:48 UTC</td>\n",
       "      <td>Elizabe81480339</td>\n",
       "      <td>RT @Gonz1Gorjeperez: @tere_marinovic https://t...</td>\n",
       "      <td>0</td>\n",
       "      <td>0</td>\n",
       "    </tr>\n",
       "    <tr>\n",
       "      <th>4594978</th>\n",
       "      <td>1526855280151056386</td>\n",
       "      <td>2022-05-18 09:20:41 UTC</td>\n",
       "      <td>CastilloNafla</td>\n",
       "      <td>RT @Gonz1Gorjeperez: @tere_marinovic https://t...</td>\n",
       "      <td>0</td>\n",
       "      <td>0</td>\n",
       "    </tr>\n",
       "    <tr>\n",
       "      <th>4594979</th>\n",
       "      <td>1526764015795310594</td>\n",
       "      <td>2022-05-18 03:18:01 UTC</td>\n",
       "      <td>AndreaSakurada</td>\n",
       "      <td>RT @Gonz1Gorjeperez: @tere_marinovic https://t...</td>\n",
       "      <td>0</td>\n",
       "      <td>0</td>\n",
       "    </tr>\n",
       "  </tbody>\n",
       "</table>\n",
       "<p>4594980 rows × 6 columns</p>\n",
       "</div>"
      ],
      "text/plain": [
       "                          id               created_at      screen_name   \n",
       "0        1512186166438637582  2022-04-07 21:50:51 UTC      h0l4d4ni3l4  \\\n",
       "1        1512186202367045642  2022-04-07 21:51:00 UTC  Claudio70932894   \n",
       "2        1512186287284924418  2022-04-07 21:51:20 UTC       Cesar_A_RR   \n",
       "3        1512186335754301446  2022-04-07 21:51:32 UTC      rosmarieher   \n",
       "4        1512186407841767424  2022-04-07 21:51:49 UTC        GQuelluen   \n",
       "...                      ...                      ...              ...   \n",
       "4594975  1526652300709679104  2022-05-17 19:54:06 UTC     Alebarrera74   \n",
       "4594976  1526641118460334080  2022-05-17 19:09:40 UTC       gigita29bq   \n",
       "4594977  1526738292011462657  2022-05-18 01:35:48 UTC  Elizabe81480339   \n",
       "4594978  1526855280151056386  2022-05-18 09:20:41 UTC    CastilloNafla   \n",
       "4594979  1526764015795310594  2022-05-18 03:18:01 UTC   AndreaSakurada   \n",
       "\n",
       "                                                      text  favorite_count   \n",
       "0        RT @ValeMirandaCC: Tras casi 50 años del golpe...               0  \\\n",
       "1        RT @UTDTrabajoDigno: Mañana jueves a las 18hrs...               0   \n",
       "2        RT @JaimeGuajardoR: Aquí está el aporte de @te...               0   \n",
       "3        RT @melnicksergio: la pelotudez no tiene limit...               0   \n",
       "4        RT @BSepulvedaHales: Ante la circulación de no...               0   \n",
       "...                                                    ...             ...   \n",
       "4594975  RT @DanielAbelLope1: @tere_marinovic 😡🤮😡🤮 VIEJ...               0   \n",
       "4594976  RT @DanielAbelLope1: @tere_marinovic 😡🤮😡🤮 VIEJ...               0   \n",
       "4594977  RT @Gonz1Gorjeperez: @tere_marinovic https://t...               0   \n",
       "4594978  RT @Gonz1Gorjeperez: @tere_marinovic https://t...               0   \n",
       "4594979  RT @Gonz1Gorjeperez: @tere_marinovic https://t...               0   \n",
       "\n",
       "         retweet_count  \n",
       "0                    0  \n",
       "1                    0  \n",
       "2                    0  \n",
       "3                    0  \n",
       "4                    0  \n",
       "...                ...  \n",
       "4594975              0  \n",
       "4594976              0  \n",
       "4594977              0  \n",
       "4594978              0  \n",
       "4594979              0  \n",
       "\n",
       "[4594980 rows x 6 columns]"
      ]
     },
     "execution_count": 2,
     "metadata": {},
     "output_type": "execute_result"
    }
   ],
   "source": [
    "df =pd.read_csv(\"tweets_2022_abril_junio.csv\")\n",
    "df"
   ]
  },
  {
   "cell_type": "code",
   "execution_count": 3,
   "metadata": {},
   "outputs": [],
   "source": [
    "subconjunto = df.copy()\n",
    "s = 0.4\n",
    "k = 4"
   ]
  },
  {
   "attachments": {},
   "cell_type": "markdown",
   "metadata": {},
   "source": [
    "## Limpieza"
   ]
  },
  {
   "cell_type": "code",
   "execution_count": 4,
   "metadata": {},
   "outputs": [],
   "source": [
    "spanish_stopwords = stopwords.words('spanish')"
   ]
  },
  {
   "cell_type": "code",
   "execution_count": 5,
   "metadata": {},
   "outputs": [
    {
     "data": {
      "text/plain": [
       "'️ ayudenme favor conseguir informacion normas articulos cc rechazado. esto import…'"
      ]
     },
     "execution_count": 5,
     "metadata": {},
     "output_type": "execute_result"
    }
   ],
   "source": [
    "frase = \"RT @RudyPetrikowski: ⚠️ Ayúdenme por favor a conseguir la información de las normas o artículos que la CC ha rechazado.\\n\\nEsto es muy import…\"\n",
    "def eliminar_stopwords(frase):\n",
    "    palabras = frase.split(\" \")\n",
    "    retorno = []\n",
    "    for palabra in palabras:\n",
    "        if not palabra in spanish_stopwords:\n",
    "            retorno.append(palabra)\n",
    "    return \" \".join(retorno)\n",
    "def procesar_frase(frase):\n",
    "    if (frase.startswith(\"RT\")):\n",
    "        frase = ' '.join(frase.split(\": \")[1:])\n",
    "    \n",
    "    # sin hashatgs\n",
    "    frase = re.sub(r\"#\\w+\", \"\",frase)\n",
    "    # sin url\n",
    "    frase = re.sub(r\"https\\S+\", \"\",frase)\n",
    "    # sin emojis\n",
    "    patron_emoji = re.compile(\"[\\U0001F600-\\U0001F64F]|[\\U0001F300-\\U0001F5FF]|[\\U0001F680-\\U0001F6FF]|[\\U00002600-\\U000027BF]|[\\U0001F900-\\U0001F9FF]|[\\U0001F1E0-\\U0001F1FF]|[\\U0001F1F2-\\U0001F1F4]|[\\U0001F1E6-\\U0001F1FF]\")\n",
    "    frase = re.sub(patron_emoji, '', frase)\n",
    "    # sin espacios\n",
    "    frase = re.sub(r\"\\s+\", \" \",frase)\n",
    "    # eliminar tildes\n",
    "    frase = frase.replace(\"á\",\"a\")\n",
    "    frase = frase.replace(\"é\",\"e\")\n",
    "    frase = frase.replace(\"í\",\"i\")\n",
    "    frase = frase.replace(\"ó\",\"o\")\n",
    "    frase = frase.replace(\"ú\",\"u\")\n",
    "\n",
    "    frase = eliminar_stopwords(frase)\n",
    "    \n",
    "    # minusculas\n",
    "    frase = frase.lower()\n",
    "    frase = frase.strip()\n",
    "    return frase\n",
    "\n",
    "procesar_frase(frase)"
   ]
  },
  {
   "cell_type": "code",
   "execution_count": 6,
   "metadata": {},
   "outputs": [
    {
     "data": {
      "text/html": [
       "<div>\n",
       "<style scoped>\n",
       "    .dataframe tbody tr th:only-of-type {\n",
       "        vertical-align: middle;\n",
       "    }\n",
       "\n",
       "    .dataframe tbody tr th {\n",
       "        vertical-align: top;\n",
       "    }\n",
       "\n",
       "    .dataframe thead th {\n",
       "        text-align: right;\n",
       "    }\n",
       "</style>\n",
       "<table border=\"1\" class=\"dataframe\">\n",
       "  <thead>\n",
       "    <tr style=\"text-align: right;\">\n",
       "      <th></th>\n",
       "      <th>id</th>\n",
       "      <th>screen_name</th>\n",
       "      <th>text</th>\n",
       "    </tr>\n",
       "  </thead>\n",
       "  <tbody>\n",
       "    <tr>\n",
       "      <th>0</th>\n",
       "      <td>1512186166438637582</td>\n",
       "      <td>h0l4d4ni3l4</td>\n",
       "      <td>RT @ValeMirandaCC: Tras casi 50 años del golpe...</td>\n",
       "    </tr>\n",
       "    <tr>\n",
       "      <th>1</th>\n",
       "      <td>1512186202367045642</td>\n",
       "      <td>Claudio70932894</td>\n",
       "      <td>RT @UTDTrabajoDigno: Mañana jueves a las 18hrs...</td>\n",
       "    </tr>\n",
       "    <tr>\n",
       "      <th>2</th>\n",
       "      <td>1512186287284924418</td>\n",
       "      <td>Cesar_A_RR</td>\n",
       "      <td>RT @JaimeGuajardoR: Aquí está el aporte de @te...</td>\n",
       "    </tr>\n",
       "    <tr>\n",
       "      <th>3</th>\n",
       "      <td>1512186335754301446</td>\n",
       "      <td>rosmarieher</td>\n",
       "      <td>RT @melnicksergio: la pelotudez no tiene limit...</td>\n",
       "    </tr>\n",
       "    <tr>\n",
       "      <th>4</th>\n",
       "      <td>1512186407841767424</td>\n",
       "      <td>GQuelluen</td>\n",
       "      <td>RT @BSepulvedaHales: Ante la circulación de no...</td>\n",
       "    </tr>\n",
       "    <tr>\n",
       "      <th>...</th>\n",
       "      <td>...</td>\n",
       "      <td>...</td>\n",
       "      <td>...</td>\n",
       "    </tr>\n",
       "    <tr>\n",
       "      <th>4549967</th>\n",
       "      <td>1526652300709679104</td>\n",
       "      <td>Alebarrera74</td>\n",
       "      <td>RT @DanielAbelLope1: @tere_marinovic 😡🤮😡🤮 VIEJ...</td>\n",
       "    </tr>\n",
       "    <tr>\n",
       "      <th>4549968</th>\n",
       "      <td>1526641118460334080</td>\n",
       "      <td>gigita29bq</td>\n",
       "      <td>RT @DanielAbelLope1: @tere_marinovic 😡🤮😡🤮 VIEJ...</td>\n",
       "    </tr>\n",
       "    <tr>\n",
       "      <th>4549969</th>\n",
       "      <td>1526738292011462657</td>\n",
       "      <td>Elizabe81480339</td>\n",
       "      <td>RT @Gonz1Gorjeperez: @tere_marinovic https://t...</td>\n",
       "    </tr>\n",
       "    <tr>\n",
       "      <th>4549970</th>\n",
       "      <td>1526855280151056386</td>\n",
       "      <td>CastilloNafla</td>\n",
       "      <td>RT @Gonz1Gorjeperez: @tere_marinovic https://t...</td>\n",
       "    </tr>\n",
       "    <tr>\n",
       "      <th>4549971</th>\n",
       "      <td>1526764015795310594</td>\n",
       "      <td>AndreaSakurada</td>\n",
       "      <td>RT @Gonz1Gorjeperez: @tere_marinovic https://t...</td>\n",
       "    </tr>\n",
       "  </tbody>\n",
       "</table>\n",
       "<p>4549972 rows × 3 columns</p>\n",
       "</div>"
      ],
      "text/plain": [
       "                          id      screen_name   \n",
       "0        1512186166438637582      h0l4d4ni3l4  \\\n",
       "1        1512186202367045642  Claudio70932894   \n",
       "2        1512186287284924418       Cesar_A_RR   \n",
       "3        1512186335754301446      rosmarieher   \n",
       "4        1512186407841767424        GQuelluen   \n",
       "...                      ...              ...   \n",
       "4549967  1526652300709679104     Alebarrera74   \n",
       "4549968  1526641118460334080       gigita29bq   \n",
       "4549969  1526738292011462657  Elizabe81480339   \n",
       "4549970  1526855280151056386    CastilloNafla   \n",
       "4549971  1526764015795310594   AndreaSakurada   \n",
       "\n",
       "                                                      text  \n",
       "0        RT @ValeMirandaCC: Tras casi 50 años del golpe...  \n",
       "1        RT @UTDTrabajoDigno: Mañana jueves a las 18hrs...  \n",
       "2        RT @JaimeGuajardoR: Aquí está el aporte de @te...  \n",
       "3        RT @melnicksergio: la pelotudez no tiene limit...  \n",
       "4        RT @BSepulvedaHales: Ante la circulación de no...  \n",
       "...                                                    ...  \n",
       "4549967  RT @DanielAbelLope1: @tere_marinovic 😡🤮😡🤮 VIEJ...  \n",
       "4549968  RT @DanielAbelLope1: @tere_marinovic 😡🤮😡🤮 VIEJ...  \n",
       "4549969  RT @Gonz1Gorjeperez: @tere_marinovic https://t...  \n",
       "4549970  RT @Gonz1Gorjeperez: @tere_marinovic https://t...  \n",
       "4549971  RT @Gonz1Gorjeperez: @tere_marinovic https://t...  \n",
       "\n",
       "[4549972 rows x 3 columns]"
      ]
     },
     "execution_count": 6,
     "metadata": {},
     "output_type": "execute_result"
    }
   ],
   "source": [
    "subconjunto = subconjunto.drop_duplicates([\"screen_name\",\"text\"]).reset_index(drop=True)\n",
    "subconjunto = subconjunto[[\"id\",\"screen_name\",\"text\"]]\n",
    "subconjunto"
   ]
  },
  {
   "cell_type": "code",
   "execution_count": 7,
   "metadata": {},
   "outputs": [],
   "source": [
    "subconjunto[\"text\"] = subconjunto[\"text\"].apply(procesar_frase)"
   ]
  },
  {
   "cell_type": "code",
   "execution_count": 8,
   "metadata": {},
   "outputs": [],
   "source": [
    "def shingle(frase , tamaño_ventana):\n",
    "    lista = []\n",
    "    for i in range(len(frase) - tamaño_ventana +1):\n",
    "        shingle = ' '.join(frase[i:i+tamaño_ventana])\n",
    "        lista.append(shingle)\n",
    "    return ','.join(lista)\n",
    "subconjunto[\"text\"] = subconjunto[\"text\"].str.split().apply(lambda x: np.array(x)).apply(lambda x: shingle(x,k))"
   ]
  },
  {
   "cell_type": "code",
   "execution_count": 9,
   "metadata": {},
   "outputs": [],
   "source": [
    "subconjunto = subconjunto[subconjunto['text'].apply(lambda x: len(x.split()) > 0)]"
   ]
  },
  {
   "cell_type": "code",
   "execution_count": 10,
   "metadata": {},
   "outputs": [],
   "source": [
    "subconjunto = subconjunto.reset_index(drop=True)"
   ]
  },
  {
   "attachments": {},
   "cell_type": "markdown",
   "metadata": {},
   "source": [
    "### Tweeets-Usuario"
   ]
  },
  {
   "cell_type": "code",
   "execution_count": 11,
   "metadata": {},
   "outputs": [
    {
     "data": {
      "text/html": [
       "<div>\n",
       "<style scoped>\n",
       "    .dataframe tbody tr th:only-of-type {\n",
       "        vertical-align: middle;\n",
       "    }\n",
       "\n",
       "    .dataframe tbody tr th {\n",
       "        vertical-align: top;\n",
       "    }\n",
       "\n",
       "    .dataframe thead th {\n",
       "        text-align: right;\n",
       "    }\n",
       "</style>\n",
       "<table border=\"1\" class=\"dataframe\">\n",
       "  <thead>\n",
       "    <tr style=\"text-align: right;\">\n",
       "      <th></th>\n",
       "      <th>screen_name</th>\n",
       "      <th>indices_en_lista</th>\n",
       "    </tr>\n",
       "  </thead>\n",
       "  <tbody>\n",
       "    <tr>\n",
       "      <th>0</th>\n",
       "      <td>0000000000000JL</td>\n",
       "      <td>[429713, 727883, 805463, 2559655, 2589505, 304...</td>\n",
       "    </tr>\n",
       "    <tr>\n",
       "      <th>1</th>\n",
       "      <td>00001009082AA</td>\n",
       "      <td>[2946888]</td>\n",
       "    </tr>\n",
       "    <tr>\n",
       "      <th>2</th>\n",
       "      <td>0001Andino</td>\n",
       "      <td>[3798622]</td>\n",
       "    </tr>\n",
       "    <tr>\n",
       "      <th>3</th>\n",
       "      <td>00132MC</td>\n",
       "      <td>[2986937]</td>\n",
       "    </tr>\n",
       "    <tr>\n",
       "      <th>4</th>\n",
       "      <td>001Carlao</td>\n",
       "      <td>[56494]</td>\n",
       "    </tr>\n",
       "    <tr>\n",
       "      <th>...</th>\n",
       "      <td>...</td>\n",
       "      <td>...</td>\n",
       "    </tr>\n",
       "    <tr>\n",
       "      <th>198136</th>\n",
       "      <td>zzeendo</td>\n",
       "      <td>[620265, 670342, 1947617, 3029166, 3808204]</td>\n",
       "    </tr>\n",
       "    <tr>\n",
       "      <th>198137</th>\n",
       "      <td>zzmatia1</td>\n",
       "      <td>[389525, 578074, 815492, 1026564, 1287144, 155...</td>\n",
       "    </tr>\n",
       "    <tr>\n",
       "      <th>198138</th>\n",
       "      <td>zzonck</td>\n",
       "      <td>[2280, 258787, 265477, 313297, 363429, 1060009...</td>\n",
       "    </tr>\n",
       "    <tr>\n",
       "      <th>198139</th>\n",
       "      <td>zztoprock1</td>\n",
       "      <td>[80919, 83996, 296619, 403932, 476107, 654201,...</td>\n",
       "    </tr>\n",
       "    <tr>\n",
       "      <th>198140</th>\n",
       "      <td>zzurita</td>\n",
       "      <td>[1136373, 1751928]</td>\n",
       "    </tr>\n",
       "  </tbody>\n",
       "</table>\n",
       "<p>198141 rows × 2 columns</p>\n",
       "</div>"
      ],
      "text/plain": [
       "            screen_name                                   indices_en_lista\n",
       "0       0000000000000JL  [429713, 727883, 805463, 2559655, 2589505, 304...\n",
       "1         00001009082AA                                          [2946888]\n",
       "2            0001Andino                                          [3798622]\n",
       "3               00132MC                                          [2986937]\n",
       "4             001Carlao                                            [56494]\n",
       "...                 ...                                                ...\n",
       "198136          zzeendo        [620265, 670342, 1947617, 3029166, 3808204]\n",
       "198137         zzmatia1  [389525, 578074, 815492, 1026564, 1287144, 155...\n",
       "198138           zzonck  [2280, 258787, 265477, 313297, 363429, 1060009...\n",
       "198139       zztoprock1  [80919, 83996, 296619, 403932, 476107, 654201,...\n",
       "198140          zzurita                                 [1136373, 1751928]\n",
       "\n",
       "[198141 rows x 2 columns]"
      ]
     },
     "execution_count": 11,
     "metadata": {},
     "output_type": "execute_result"
    }
   ],
   "source": [
    "agrupado = subconjunto.copy()\n",
    "agrupado = agrupado.reset_index()\n",
    "agrupado = agrupado.groupby('screen_name')['index'].agg(list)\n",
    "agrupado = agrupado.rename('indices_en_lista')\n",
    "agrupado = agrupado.reset_index().rename(columns={'index': 'indices_en_lista'})\n",
    "agrupado"
   ]
  },
  {
   "cell_type": "code",
   "execution_count": 12,
   "metadata": {},
   "outputs": [],
   "source": [
    "def m_caracteristica(subconjun):\n",
    "    tweets = subconjun\n",
    "    shingles = tweets['text'].apply(lambda x: np.array(x.split(',')))\n",
    "    mlb = MultiLabelBinarizer(sparse_output=True)\n",
    "    return mlb.fit_transform(shingles)"
   ]
  },
  {
   "cell_type": "code",
   "execution_count": 13,
   "metadata": {},
   "outputs": [
    {
     "data": {
      "text/plain": [
       "<4019415x5806559 sparse matrix of type '<class 'numpy.int32'>'\n",
       "\twith 35557046 stored elements in Compressed Sparse Row format>"
      ]
     },
     "execution_count": 13,
     "metadata": {},
     "output_type": "execute_result"
    }
   ],
   "source": [
    "matrix = m_caracteristica(subconjunto)\n",
    "matrix\n"
   ]
  },
  {
   "cell_type": "code",
   "execution_count": 14,
   "metadata": {},
   "outputs": [],
   "source": [
    "n_pm= 10\n",
    "\n",
    "def minhash_vec(sparce_vector):\n",
    "    minhash = MinHash(n_pm)\n",
    "    for i in sparce_vector.indices:\n",
    "        minhash.update(str(i).encode(\"utf8\"))\n",
    "    return minhash"
   ]
  },
  {
   "cell_type": "code",
   "execution_count": 15,
   "metadata": {},
   "outputs": [],
   "source": [
    "thrld = 0.4\n",
    "lsh = MinHashLSH(thrld,n_pm)\n",
    "list_hash = []\n",
    "for i in range(matrix.shape[0]):\n",
    "    list_hash.append((i,minhash_vec(matrix[i])))\n",
    "\n",
    "with lsh.insertion_session() as session:\n",
    "    for i , minhash in list_hash:\n",
    "        session.insert(i, minhash)"
   ]
  },
  {
   "cell_type": "code",
   "execution_count": 16,
   "metadata": {},
   "outputs": [
    {
     "data": {
      "text/plain": [
       "4019415"
      ]
     },
     "execution_count": 16,
     "metadata": {},
     "output_type": "execute_result"
    }
   ],
   "source": [
    "len(list_hash)"
   ]
  },
  {
   "attachments": {},
   "cell_type": "markdown",
   "metadata": {},
   "source": [
    "### Asociamos los tweets a sus buckets similares"
   ]
  },
  {
   "cell_type": "code",
   "execution_count": 17,
   "metadata": {},
   "outputs": [],
   "source": [
    "def process_tweet(id_tweet):\n",
    "        m = minhash_vec(matrix[id_tweet])\n",
    "        aprox = lsh.query(m)\n",
    "        return aprox\n",
    "def transformar_lista(lisa_id_tweet):\n",
    "    similares = set()\n",
    "\n",
    "    with ThreadPoolExecutor() as executor:\n",
    "        results = executor.map(process_tweet, lisa_id_tweet)\n",
    "\n",
    "    for result in results:\n",
    "        similares.update(result)\n",
    "\n",
    "    return list(similares)"
   ]
  },
  {
   "cell_type": "code",
   "execution_count": 19,
   "metadata": {},
   "outputs": [],
   "source": [
    "agrupado['similaritys'] = agrupado['indices_en_lista'].apply(transformar_lista)"
   ]
  },
  {
   "attachments": {},
   "cell_type": "markdown",
   "metadata": {},
   "source": [
    "### Asociammos los buckets de tweets, a los usuarios"
   ]
  },
  {
   "cell_type": "code",
   "execution_count": null,
   "metadata": {},
   "outputs": [],
   "source": [
    "def m_caracteristica(subconjun):\n",
    "    sims = subconjun\n",
    "    shingles = sims['similaritys'].apply(lambda x: np.array(x))\n",
    "    mlb = MultiLabelBinarizer(sparse_output=True)\n",
    "    return mlb.fit_transform(shingles)"
   ]
  },
  {
   "cell_type": "code",
   "execution_count": null,
   "metadata": {},
   "outputs": [],
   "source": [
    "matrix = m_caracteristica(agrupado)"
   ]
  },
  {
   "cell_type": "code",
   "execution_count": null,
   "metadata": {},
   "outputs": [],
   "source": [
    "n_pm= 50\n",
    "thrld = 0.4\n",
    "lsh = MinHashLSH(thrld,n_pm)\n",
    "list_hash = []\n",
    "for i in range(matrix.shape[0]):\n",
    "    list_hash.append((i,minhash_vec(matrix[i])))\n",
    "\n",
    "with lsh.insertion_session() as session:\n",
    "    for i , minhash in list_hash:\n",
    "        session.insert(i, minhash)"
   ]
  },
  {
   "cell_type": "code",
   "execution_count": null,
   "metadata": {},
   "outputs": [],
   "source": [
    "id_usuario = 0\n",
    "m = minhash_vec(matrix[id_usuario])\n",
    "usuarios_similares = lsh.query(m)"
   ]
  }
 ],
 "metadata": {
  "kernelspec": {
   "display_name": "Python 3",
   "language": "python",
   "name": "python3"
  },
  "language_info": {
   "codemirror_mode": {
    "name": "ipython",
    "version": 3
   },
   "file_extension": ".py",
   "mimetype": "text/x-python",
   "name": "python",
   "nbconvert_exporter": "python",
   "pygments_lexer": "ipython3",
   "version": "3.11.3"
  },
  "orig_nbformat": 4
 },
 "nbformat": 4,
 "nbformat_minor": 2
}
